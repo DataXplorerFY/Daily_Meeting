{
 "cells": [
  {
   "cell_type": "code",
   "execution_count": 3,
   "id": "53516863-5e26-4d84-8406-c4228ce08848",
   "metadata": {},
   "outputs": [
    {
     "name": "stderr",
     "output_type": "stream",
     "text": [
      "fatal: destination path 'darknet' already exists and is not an empty directory.\n"
     ]
    }
   ],
   "source": [
    "!git clone https://github.com/pjreddie/darknet\n",
    "!cd darknet\n"
   ]
  },
  {
   "cell_type": "code",
   "execution_count": null,
   "id": "2ac3f9ca-6b92-4374-b709-f99480e64535",
   "metadata": {},
   "outputs": [],
   "source": [
    "wget https://pjreddie.com/media/files/yolov3.weights"
   ]
  }
 ],
 "metadata": {
  "kernelspec": {
   "display_name": "Python 3 (ipykernel)",
   "language": "python",
   "name": "python3"
  },
  "language_info": {
   "codemirror_mode": {
    "name": "ipython",
    "version": 3
   },
   "file_extension": ".py",
   "mimetype": "text/x-python",
   "name": "python",
   "nbconvert_exporter": "python",
   "pygments_lexer": "ipython3",
   "version": "3.11.5"
  }
 },
 "nbformat": 4,
 "nbformat_minor": 5
}
