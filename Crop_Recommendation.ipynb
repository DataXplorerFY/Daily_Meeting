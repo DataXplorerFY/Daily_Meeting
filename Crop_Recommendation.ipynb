{
  "nbformat": 4,
  "nbformat_minor": 0,
  "metadata": {
    "colab": {
      "provenance": []
    },
    "kernelspec": {
      "name": "python3",
      "display_name": "Python 3"
    },
    "language_info": {
      "name": "python"
    }
  },
  "cells": [
    {
      "cell_type": "code",
      "execution_count": null,
      "metadata": {
        "id": "t2-OowbR8HZa"
      },
      "outputs": [],
      "source": [
        "from sklearn.model_selection import train_test_split\n",
        "from sklearn.tree import DecisionTreeClassifier\n",
        "from sklearn.metrics import accuracy_score\n",
        "from sklearn.model_selection import train_test_split\n",
        "import pandas as pd\n",
        "from google.colab import drive"
      ]
    },
    {
      "cell_type": "code",
      "source": [
        "drive.mount('/content/drive')"
      ],
      "metadata": {
        "colab": {
          "base_uri": "https://localhost:8080/"
        },
        "id": "aIrTTvOmF7Jn",
        "outputId": "7d49c573-28b9-4071-e3ab-b662734f2e8f"
      },
      "execution_count": null,
      "outputs": [
        {
          "output_type": "stream",
          "name": "stdout",
          "text": [
            "Drive already mounted at /content/drive; to attempt to forcibly remount, call drive.mount(\"/content/drive\", force_remount=True).\n"
          ]
        }
      ]
    },
    {
      "cell_type": "code",
      "source": [
        "file_path = '/content/drive/MyDrive/crop_recomendation_data/Crop_recommendation.csv'\n",
        "\n",
        "df = pd.read_csv(file_path)\n"
      ],
      "metadata": {
        "id": "aNwtu5eqDsio"
      },
      "execution_count": null,
      "outputs": []
    },
    {
      "cell_type": "code",
      "source": [
        "# Split the dataset into features (X) and target variable (y)\n",
        "X = df[['Temperature (°C)', 'Humidity (%)']]\n",
        "y = df['Crop']\n"
      ],
      "metadata": {
        "id": "DaurJJ-0DvrN"
      },
      "execution_count": null,
      "outputs": []
    },
    {
      "cell_type": "code",
      "source": [
        "X_train, X_test, y_train, y_test = train_test_split(X, y, test_size=0.2, random_state=42)\n",
        "\n",
        "model = DecisionTreeClassifier()\n",
        "model.fit(X_train.values, y_train.values)\n",
        "\n",
        "y_pred = model.predict(X_test.values)"
      ],
      "metadata": {
        "id": "KtRWGcfvDyG8"
      },
      "execution_count": null,
      "outputs": []
    },
    {
      "cell_type": "code",
      "source": [
        "accuracy = accuracy_score(y_test, y_pred)\n",
        "print(f\"Accuracy: {accuracy}\")\n",
        "\n",
        "temperature = float(input(\"Enter the temperature (°C): \"))\n",
        "humidity = float(input(\"Enter the humidity (%): \"))\n",
        "new_weather_conditions = [[temperature, humidity]]\n",
        "\n",
        "predicted_crop = model.predict(new_weather_conditions)\n",
        "print(f\"Predicted Crop: {predicted_crop}\")"
      ],
      "metadata": {
        "colab": {
          "base_uri": "https://localhost:8080/"
        },
        "id": "CdGRwbNAD00O",
        "outputId": "00a892a7-ad96-4f69-bf84-6fe091178b6b"
      },
      "execution_count": null,
      "outputs": [
        {
          "output_type": "stream",
          "name": "stdout",
          "text": [
            "Accuracy: 0.875\n",
            "Enter the temperature (°C): 21\n",
            "Enter the humidity (%): 81\n",
            "Predicted Crop: ['Wheat']\n"
          ]
        }
      ]
    }
  ]
}