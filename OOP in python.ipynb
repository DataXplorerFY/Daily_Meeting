{
 "cells": [
  {
   "cell_type": "markdown",
   "id": "de0232da",
   "metadata": {},
   "source": [
    "# OOP:\n",
    "Classes and Objects in python "
   ]
  },
  {
   "cell_type": "markdown",
   "id": "7b08896f",
   "metadata": {},
   "source": [
    "# class:"
   ]
  },
  {
   "cell_type": "code",
   "execution_count": 1,
   "id": "386bf077",
   "metadata": {},
   "outputs": [],
   "source": [
    "class democlass:        # called class\n",
    "    a=10"
   ]
  },
  {
   "cell_type": "markdown",
   "id": "0f14d735",
   "metadata": {},
   "source": [
    "# object:"
   ]
  },
  {
   "cell_type": "code",
   "execution_count": 3,
   "id": "416fe124",
   "metadata": {},
   "outputs": [
    {
     "name": "stdout",
     "output_type": "stream",
     "text": [
      "10\n"
     ]
    }
   ],
   "source": [
    "demo_Object=democlass()      # called object and call class.\n",
    "print(demo_Object.a)"
   ]
  },
  {
   "cell_type": "markdown",
   "id": "46ba87e6",
   "metadata": {},
   "source": [
    "# self:\n",
    "    we use any variable in place of self.\n",
    "    self work as an object and always use as a parameter when we make function in class."
   ]
  },
  {
   "cell_type": "code",
   "execution_count": 8,
   "id": "26683a42",
   "metadata": {},
   "outputs": [
    {
     "name": "stdout",
     "output_type": "stream",
     "text": [
      "10\n",
      "50\n"
     ]
    }
   ],
   "source": [
    "class democlass2:\n",
    "    a=10\n",
    "    def sum(self):        # always pass one argument when we make function here we use variable self\n",
    "         print (20+30)    # how we make function in class\n",
    "demo_Object2=democlass2() # object declare here \n",
    "print (demo_Object2.a)\n",
    "demo_Object2.sum()        # call function"
   ]
  },
  {
   "cell_type": "code",
   "execution_count": 10,
   "id": "4ac105ae",
   "metadata": {},
   "outputs": [
    {
     "name": "stdout",
     "output_type": "stream",
     "text": [
      "10\n"
     ]
    }
   ],
   "source": [
    "class demo:\n",
    "    a=10\n",
    "    def sum1(self):\n",
    "        print(self.a)  # always we follow this syntax when we make function in class and then call.\n",
    "object=demo()\n",
    "object.sum1()"
   ]
  },
  {
   "cell_type": "code",
   "execution_count": 11,
   "id": "41c2f3b2",
   "metadata": {},
   "outputs": [
    {
     "name": "stdout",
     "output_type": "stream",
     "text": [
      "100\n"
     ]
    }
   ],
   "source": [
    "class demo:\n",
    "    a=10\n",
    "    def sum1(self):\n",
    "        self.c=self.a * self.a           # 10 * 10\n",
    "        print (self.c)\n",
    "object=demo()\n",
    "object.sum1()"
   ]
  },
  {
   "cell_type": "markdown",
   "id": "a004a1ce",
   "metadata": {},
   "source": [
    "we use more arguments with self \n",
    "\n",
    "        methods:"
   ]
  },
  {
   "cell_type": "code",
   "execution_count": 16,
   "id": "47300e7d",
   "metadata": {},
   "outputs": [
    {
     "name": "stdout",
     "output_type": "stream",
     "text": [
      "30\n"
     ]
    }
   ],
   "source": [
    "class student:\n",
    "    a=10\n",
    "    def sum2(self,a,b):\n",
    "          print (a+b)\n",
    "object=student()\n",
    "object.sum2(10,20)    # by passing parameters"
   ]
  },
  {
   "cell_type": "markdown",
   "id": "6c51c54d",
   "metadata": {},
   "source": [
    "# constructor:\n",
    "    we call automatically .\n",
    "    define constructure with __init__ keyword and always we use self variable \n",
    "    object bnaty hi call ho jata ha "
   ]
  },
  {
   "cell_type": "code",
   "execution_count": 20,
   "id": "138de655",
   "metadata": {},
   "outputs": [
    {
     "name": "stdout",
     "output_type": "stream",
     "text": [
      "here we call constructor automatically when we make object:\n"
     ]
    }
   ],
   "source": [
    "class student:\n",
    "    def __init__ (self):\n",
    "        print (\"here we call constructor automatically when we make object:\")\n",
    "object=student()"
   ]
  },
  {
   "cell_type": "code",
   "execution_count": 23,
   "id": "7db8c965",
   "metadata": {},
   "outputs": [
    {
     "name": "stdout",
     "output_type": "stream",
     "text": [
      "<__main__.student object at 0x0000029F284A5000>\n"
     ]
    }
   ],
   "source": [
    "class student:\n",
    "    def __init__ (self, name, address):\n",
    "        self.name=name\n",
    "        self.address=address\n",
    "object=student(\"Arooj\", \"Fsd\")\n",
    "print(object) "
   ]
  },
  {
   "cell_type": "code",
   "execution_count": 25,
   "id": "5a8fa530",
   "metadata": {},
   "outputs": [
    {
     "name": "stdout",
     "output_type": "stream",
     "text": [
      "Arooj\n"
     ]
    }
   ],
   "source": [
    "print(object.name)"
   ]
  },
  {
   "cell_type": "code",
   "execution_count": 26,
   "id": "33e2dd3a",
   "metadata": {},
   "outputs": [
    {
     "name": "stdout",
     "output_type": "stream",
     "text": [
      "Fsd\n"
     ]
    }
   ],
   "source": [
    "print(object.address)"
   ]
  },
  {
   "cell_type": "code",
   "execution_count": 33,
   "id": "adab26aa",
   "metadata": {},
   "outputs": [
    {
     "name": "stdout",
     "output_type": "stream",
     "text": [
      "Hello my name is John\n"
     ]
    }
   ],
   "source": [
    "class Person:\n",
    "  def __init__(self, name, age):\n",
    "    self.name = name\n",
    "    self.age = age\n",
    "\n",
    "  def myfunc(self):\n",
    "    print(\"Hello my name is \" + self.name)\n",
    "\n",
    "p1 = Person(\"John\", 36)\n",
    "p1.myfunc() "
   ]
  },
  {
   "cell_type": "markdown",
   "id": "1e425a89",
   "metadata": {},
   "source": [
    "# 2:  _str_ \n",
    "\n",
    " we use second method of constructor is _ _str_ _ :"
   ]
  },
  {
   "cell_type": "code",
   "execution_count": 32,
   "id": "6895a2d9",
   "metadata": {},
   "outputs": [
    {
     "name": "stdout",
     "output_type": "stream",
     "text": [
      "name=Arooj\n",
      " address=Fsd\n"
     ]
    }
   ],
   "source": [
    "class student:\n",
    "    def __init__ (self, name, address):\n",
    "        self.name=name\n",
    "        self.address=address\n",
    "    def __str__ (self):\n",
    "        s=\"name=\"+self.name +\"\\n \"+ \"address=\"+self.address\n",
    "        return s\n",
    "object=student(\"Arooj\", \"Fsd\")\n",
    "print(object) "
   ]
  },
  {
   "cell_type": "code",
   "execution_count": 37,
   "id": "4f53b172",
   "metadata": {},
   "outputs": [
    {
     "name": "stdout",
     "output_type": "stream",
     "text": [
      "red\n",
      "this apple is red and its flavour is sweet\n"
     ]
    }
   ],
   "source": [
    "class apple:\n",
    "    def __init__(self, color, flavour):\n",
    "        self.color = color\n",
    "        self.flavour= flavour\n",
    "    def __str__(self):\n",
    "        return \"this apple is {} and its flavour is {}\" .format(self.color, self.flavour)\n",
    "jonagold =apple(\"red\", \"sweet\")\n",
    "print(jonagold.color)\n",
    "print(jonagold)"
   ]
  },
  {
   "cell_type": "code",
   "execution_count": 40,
   "id": "757d08db",
   "metadata": {},
   "outputs": [],
   "source": [
    "class apple:\n",
    "    \"HI , my name is arooj\"               # show this string in output by using help\n",
    "    def __init__(self, color, flavour):\n",
    "        self.color = color\n",
    "        self.flavour= flavour\n",
    "    def __str__(self):\n",
    "        return \"this apple is{} and its flavour is {}\" .format(self.color, self.flavour)\n",
    "jonagold =apple(\"red\", \"sweet\")"
   ]
  },
  {
   "cell_type": "code",
   "execution_count": 41,
   "id": "48b2ddb3",
   "metadata": {},
   "outputs": [
    {
     "name": "stdout",
     "output_type": "stream",
     "text": [
      "Help on class apple in module __main__:\n",
      "\n",
      "class apple(builtins.object)\n",
      " |  apple(color, flavour)\n",
      " |  \n",
      " |  HI , my name is arooj\n",
      " |  \n",
      " |  Methods defined here:\n",
      " |  \n",
      " |  __init__(self, color, flavour)\n",
      " |      Initialize self.  See help(type(self)) for accurate signature.\n",
      " |  \n",
      " |  __str__(self)\n",
      " |      Return str(self).\n",
      " |  \n",
      " |  ----------------------------------------------------------------------\n",
      " |  Data descriptors defined here:\n",
      " |  \n",
      " |  __dict__\n",
      " |      dictionary for instance variables (if defined)\n",
      " |  \n",
      " |  __weakref__\n",
      " |      list of weak references to the object (if defined)\n",
      "\n"
     ]
    }
   ],
   "source": [
    "help(apple)"
   ]
  },
  {
   "cell_type": "markdown",
   "id": "2c0b93b0",
   "metadata": {},
   "source": [
    "# Inheritance :\n",
    "\n",
    "aik object ko hm multiple classes mn call kr skty hain"
   ]
  },
  {
   "cell_type": "markdown",
   "id": "1b723060",
   "metadata": {},
   "source": [
    "# single inheritance:"
   ]
  },
  {
   "cell_type": "code",
   "execution_count": 43,
   "id": "a5aba180",
   "metadata": {},
   "outputs": [
    {
     "name": "stdout",
     "output_type": "stream",
     "text": [
      "welcome to class A\n",
      "welcome to class B\n"
     ]
    }
   ],
   "source": [
    "class A:\n",
    "    def displayA(self):\n",
    "        print(\"welcome to class A\")\n",
    "class B(A):                #chng here class B joined with class A\n",
    "    def displayB(self):\n",
    "        print(\"welcome to class B\")      \n",
    "obj=B()\n",
    "obj.displayA()\n",
    "obj.displayB()\n",
    "    "
   ]
  },
  {
   "cell_type": "markdown",
   "id": "52d7898c",
   "metadata": {},
   "source": [
    "# Multilevel inheritance:"
   ]
  },
  {
   "cell_type": "code",
   "execution_count": 45,
   "id": "f88ea160",
   "metadata": {},
   "outputs": [
    {
     "name": "stdout",
     "output_type": "stream",
     "text": [
      "welcome to class A\n",
      "welcome to class B\n",
      "welcome to class C\n"
     ]
    }
   ],
   "source": [
    "class A:\n",
    "    def displayA(self):\n",
    "        print(\"welcome to class A\")\n",
    "class B(A):                #chng here class B joined with class A\n",
    "    def displayB(self):\n",
    "        print(\"welcome to class B\")  \n",
    "class C(B):                #chng here class C joined with class B\n",
    "    def displayC(self):\n",
    "        print(\"welcome to class C\")  \n",
    "obj=C()\n",
    "obj.displayA()\n",
    "obj.displayB()\n",
    "obj.displayC()"
   ]
  },
  {
   "cell_type": "markdown",
   "id": "170eaa47",
   "metadata": {},
   "source": [
    "# Multiple inheritance:\n",
    "    \n",
    "    only support python language not others like java php etc"
   ]
  },
  {
   "cell_type": "code",
   "execution_count": 47,
   "id": "e4151dc1",
   "metadata": {},
   "outputs": [
    {
     "name": "stdout",
     "output_type": "stream",
     "text": [
      "welcome to class A\n",
      "welcome to class B\n",
      "welcome to class C\n"
     ]
    }
   ],
   "source": [
    "class A:\n",
    "    def displayA(self):\n",
    "        print(\"welcome to class A\")\n",
    "class B():               \n",
    "    def displayB(self):\n",
    "        print(\"welcome to class B\")  \n",
    "class C(A,B):                #chng here class C joined with class A,B directly.\n",
    "    def displayC(self):\n",
    "        print(\"welcome to class C\")  \n",
    "obj=C()\n",
    "obj.displayA()\n",
    "obj.displayB()\n",
    "obj.displayC()"
   ]
  },
  {
   "cell_type": "code",
   "execution_count": 48,
   "id": "ffc352ed",
   "metadata": {},
   "outputs": [
    {
     "name": "stdout",
     "output_type": "stream",
     "text": [
      "Meow! I'm Luna! Meow!\n"
     ]
    }
   ],
   "source": [
    "class Animal:\n",
    " sound=\"\"\n",
    " def __init__(self,name):\n",
    "        self.name=name\n",
    " def speak(self):\n",
    "    print(\"{sound} I'm {name}! {sound}\".format(name=self.name, sound=self.sound))\n",
    "class Cat(Animal):\n",
    " sound=\"Meow!\"\n",
    "myLuna=Cat(\"Luna\")\n",
    "myLuna.speak()\n",
    "    "
   ]
  },
  {
   "cell_type": "code",
   "execution_count": 49,
   "id": "ea8c12be",
   "metadata": {},
   "outputs": [
    {
     "name": "stdout",
     "output_type": "stream",
     "text": [
      "Meow! I'm Luna! Meow!\n",
      "Meooo! I'm mily! Meooo!\n"
     ]
    }
   ],
   "source": [
    "# in this case we create two objects:\n",
    "class Animal:\n",
    " sound=\"\"\n",
    " def __init__(self,name):\n",
    "        self.name=name\n",
    " def speak(self):\n",
    "    print(\"{sound} I'm {name}! {sound}\".format(name=self.name, sound=self.sound))\n",
    "class Cat(Animal):\n",
    " sound=\"Meow!\"\n",
    "myLuna=Cat(\"Luna\")\n",
    "myLuna.speak()\n",
    "\n",
    "class Cow(Animal):\n",
    " sound=\"Meooo!\"\n",
    "mycow=Cow(\"mily\")\n",
    "mycow.speak()"
   ]
  },
  {
   "cell_type": "code",
   "execution_count": 52,
   "id": "e2df9e01",
   "metadata": {},
   "outputs": [
    {
     "name": "stdout",
     "output_type": "stream",
     "text": [
      "this polo is made of cotton\n"
     ]
    }
   ],
   "source": [
    "class clothing:\n",
    "    material =\"\"\n",
    "    def __init__(self, name):\n",
    "        self.name = name \n",
    "    def checkmaterial(self):\n",
    "        print(\"this {} is made of {}\".format(self.name, self.material))\n",
    "class shirt (clothing):\n",
    "    material=\"cotton\"\n",
    "polo = shirt (\"polo\")\n",
    "polo.checkmaterial()"
   ]
  },
  {
   "cell_type": "markdown",
   "id": "f90534f1",
   "metadata": {},
   "source": [
    "# object composition:\n",
    "\n",
    "      dictionary >>.key .value .name these are three methods \n",
    "      without inheritance we call function  in composition \n",
    "      another class method we call in our class"
   ]
  },
  {
   "cell_type": "markdown",
   "id": "70e70d01",
   "metadata": {},
   "source": [
    "Inheritance will extend the functionality with extra features allows overriding of methods\n",
    "\n",
    "     Composition, we can only use that class we can not modify or extend the functionality of it.\n",
    "     It will not provide extra features. "
   ]
  },
  {
   "cell_type": "code",
   "execution_count": 53,
   "id": "0972cb35",
   "metadata": {},
   "outputs": [
    {
     "name": "stdout",
     "output_type": "stream",
     "text": [
      "Component class object created\n",
      "Composite class object also created...\n",
      "Composite class m2() method executed...\n",
      "Component class m1() method executed\n"
     ]
    }
   ],
   "source": [
    "class Component:\n",
    "    def __init__(self):\n",
    "        print('Component class object created')\n",
    "        \n",
    "    def m1(self):\n",
    "        print('Component class m1() method executed')\n",
    "  \n",
    " # make second class here.\n",
    "class Composite:\n",
    "    def __init__(self):\n",
    "        # creating object of component class\n",
    "        \n",
    "        self.obj1 = Component()\n",
    "        print('Composite class object also created...')\n",
    "  \n",
    "     # composite class instance method\n",
    "    def m2(self):\n",
    "        \n",
    "        print('Composite class m2() method executed...')\n",
    "  \n",
    "        # calling m1() method of component class\n",
    "        self.obj1.m1()\n",
    "  \n",
    "  \n",
    "# creating object of composite class\n",
    "obj2 = Composite()\n",
    "  \n",
    "# calling m2() method of composite class\n",
    "obj2.m2()"
   ]
  },
  {
   "cell_type": "code",
   "execution_count": null,
   "id": "2a1bbca8",
   "metadata": {},
   "outputs": [],
   "source": []
  }
 ],
 "metadata": {
  "kernelspec": {
   "display_name": "Python 3 (ipykernel)",
   "language": "python",
   "name": "python3"
  },
  "language_info": {
   "codemirror_mode": {
    "name": "ipython",
    "version": 3
   },
   "file_extension": ".py",
   "mimetype": "text/x-python",
   "name": "python",
   "nbconvert_exporter": "python",
   "pygments_lexer": "ipython3",
   "version": "3.10.9"
  }
 },
 "nbformat": 4,
 "nbformat_minor": 5
}
