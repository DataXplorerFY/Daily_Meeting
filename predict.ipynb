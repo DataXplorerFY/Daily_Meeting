{
 "cells": [
  {
   "cell_type": "code",
   "execution_count": 1,
   "id": "3447899c",
   "metadata": {},
   "outputs": [],
   "source": [
    "from ultralytics import YOLO"
   ]
  },
  {
   "cell_type": "code",
   "execution_count": 2,
   "id": "63a53767",
   "metadata": {},
   "outputs": [
    {
     "name": "stdout",
     "output_type": "stream",
     "text": [
      "WARNING ⚠️ ./runs/detect/train/weights/best.pt appears to require 'dill', which is not in ultralytics requirements.\n",
      "AutoInstall will run now for 'dill' but this feature will be removed in the future.\n",
      "Recommend fixes are to train a new model using the latest 'ultralytics' package or to run a command with an official YOLOv8 model, i.e. 'yolo predict model=yolov8n.pt'\n",
      "\u001b[31m\u001b[1mrequirements:\u001b[0m Ultralytics requirement ['dill'] not found, attempting AutoUpdate...\n",
      "Collecting dill\n",
      "  Downloading dill-0.3.8-py3-none-any.whl (116 kB)\n",
      "Installing collected packages: dill\n",
      "Successfully installed dill-0.3.8\n",
      "\n",
      "\u001b[31m\u001b[1mrequirements:\u001b[0m AutoUpdate success ✅ 7.8s, installed 1 package: ['dill']\n",
      "\u001b[31m\u001b[1mrequirements:\u001b[0m ⚠️ \u001b[1mRestart runtime or rerun command for updates to take effect\u001b[0m\n",
      "\n"
     ]
    }
   ],
   "source": [
    "model = YOLO('./runs/detect/train/weights/best.pt')"
   ]
  },
  {
   "cell_type": "code",
   "execution_count": 5,
   "id": "00f76e5e",
   "metadata": {},
   "outputs": [],
   "source": [
    "model.predict('./test/44.jpg', save=True, show=True, save_txt=True)"
   ]
  },
  {
   "cell_type": "code",
   "execution_count": 10,
   "id": "368d5f9b",
   "metadata": {},
   "outputs": [
    {
     "name": "stdout",
     "output_type": "stream",
     "text": [
      "\n",
      "image 1/1 D:\\Work Space\\Data\\test\\55.jpg: 480x640 27 oranges, 141.9ms\n",
      "Speed: 2.9ms preprocess, 141.9ms inference, 0.0ms postprocess per image at shape (1, 3, 480, 640)\n",
      "Results saved to \u001b[1mruns\\detect\\predict2\u001b[0m\n",
      "3 labels saved to runs\\detect\\predict2\\labels\n"
     ]
    },
    {
     "ename": "AttributeError",
     "evalue": "'list' object has no attribute 'imgs'",
     "output_type": "error",
     "traceback": [
      "\u001b[1;31m---------------------------------------------------------------------------\u001b[0m",
      "\u001b[1;31mAttributeError\u001b[0m                            Traceback (most recent call last)",
      "\u001b[1;32m~\\AppData\\Local\\Temp/ipykernel_4812/1409364619.py\u001b[0m in \u001b[0;36m<module>\u001b[1;34m\u001b[0m\n\u001b[0;32m     17\u001b[0m \u001b[1;33m\u001b[0m\u001b[0m\n\u001b[0;32m     18\u001b[0m \u001b[1;31m# Load the predicted image\u001b[0m\u001b[1;33m\u001b[0m\u001b[1;33m\u001b[0m\u001b[0m\n\u001b[1;32m---> 19\u001b[1;33m \u001b[0mimg\u001b[0m \u001b[1;33m=\u001b[0m \u001b[0mcv2\u001b[0m\u001b[1;33m.\u001b[0m\u001b[0mimread\u001b[0m\u001b[1;33m(\u001b[0m\u001b[0mresults\u001b[0m\u001b[1;33m.\u001b[0m\u001b[0mimgs\u001b[0m\u001b[1;33m[\u001b[0m\u001b[1;36m0\u001b[0m\u001b[1;33m]\u001b[0m\u001b[1;33m)\u001b[0m  \u001b[1;31m# Load the image with bounding boxes\u001b[0m\u001b[1;33m\u001b[0m\u001b[1;33m\u001b[0m\u001b[0m\n\u001b[0m\u001b[0;32m     20\u001b[0m \u001b[1;33m\u001b[0m\u001b[0m\n\u001b[0;32m     21\u001b[0m \u001b[1;31m# Add text to the image\u001b[0m\u001b[1;33m\u001b[0m\u001b[1;33m\u001b[0m\u001b[0m\n",
      "\u001b[1;31mAttributeError\u001b[0m: 'list' object has no attribute 'imgs'"
     ]
    }
   ],
   "source": [
    "import cv2\n",
    "import pandas as pd\n",
    "\n",
    "\n",
    "results = model.predict('./test/55.jpg', save=True, show=True, save_txt=True)\n",
    "\n",
    "# # Access the detection results\n",
    "# results.print()  # Optional: Print results for visualization\n",
    "\n",
    "# # Count the detected oranges\n",
    "# orange_count = len(results.pandas().xyxy[0])  # Extract the number of detections\n",
    "\n",
    "# print(\"Number of detected oranges:\", orange_count)\n",
    "\n",
    "# Count the detected oranges\n",
    "orange_count = len(results[0].boxes[0])    # Access the DataFrame from the first element of the list\n",
    "\n",
    "# Load the predicted image\n",
    "img = cv2.imread(results.imgs[0])  # Load the image with bounding boxes\n",
    "\n",
    "# Add text to the image\n",
    "cv2.putText(img, f\"Orange Count: {orange_count}\", (10, 30), cv2.FONT_HERSHEY_SIMPLEX, 0.8, (0, 255, 0), 2)\n",
    "\n",
    "# Display the image with count\n",
    "cv2.imshow(\"Image with Count\", img)\n",
    "cv2.waitKey(0)  # Wait for a key press to close the window\n",
    "cv2.destroyAllWindows()"
   ]
  },
  {
   "cell_type": "code",
   "execution_count": 12,
   "id": "2742ce19",
   "metadata": {},
   "outputs": [
    {
     "name": "stdout",
     "output_type": "stream",
     "text": [
      "\n",
      "image 1/1 D:\\Work Space\\Data\\test\\55.jpg: 480x640 27 oranges, 157.4ms\n",
      "Speed: 3.5ms preprocess, 157.4ms inference, 15.6ms postprocess per image at shape (1, 3, 480, 640)\n",
      "Results saved to \u001b[1mruns\\detect\\predict2\u001b[0m\n",
      "3 labels saved to runs\\detect\\predict2\\labels\n"
     ]
    }
   ],
   "source": [
    "import cv2\n",
    "\n",
    "results = model.predict('./test/55.jpg', save=True, show=True)  # Removed save_txt=True\n",
    "\n",
    "# Count the detected oranges\n",
    "orange_count = len(results[0].boxes[0])  # Access the boxes from the first Results object\n",
    "\n",
    "# Load the predicted image\n",
    "img = results[0].orig_img  # Access the original image with bounding boxes\n",
    "\n",
    "# Add text to the image\n",
    "cv2.putText(img, f\"Orange Count: {orange_count}\", (10, 30), cv2.FONT_HERSHEY_SIMPLEX, 0.8, (0, 255, 0), 2)\n",
    "\n",
    "# Display the image with count\n",
    "cv2.imshow(\"Image with Count\", img)\n",
    "cv2.waitKey(0)  # Wait for a key press to close the window\n",
    "cv2.destroyAllWindows()"
   ]
  },
  {
   "cell_type": "code",
   "execution_count": null,
   "id": "5a3b1782",
   "metadata": {},
   "outputs": [],
   "source": []
  }
 ],
 "metadata": {
  "kernelspec": {
   "display_name": "Python 3 (ipykernel)",
   "language": "python",
   "name": "python3"
  },
  "language_info": {
   "codemirror_mode": {
    "name": "ipython",
    "version": 3
   },
   "file_extension": ".py",
   "mimetype": "text/x-python",
   "name": "python",
   "nbconvert_exporter": "python",
   "pygments_lexer": "ipython3",
   "version": "3.9.7"
  }
 },
 "nbformat": 4,
 "nbformat_minor": 5
}
