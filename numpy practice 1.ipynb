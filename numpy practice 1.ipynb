{
 "cells": [
  {
   "cell_type": "markdown",
   "id": "404da2ae",
   "metadata": {},
   "source": [
    "# Convert a 1D array to a 2D array with 2 rows?"
   ]
  },
  {
   "cell_type": "code",
   "execution_count": 1,
   "id": "5d4a0ce3",
   "metadata": {},
   "outputs": [],
   "source": [
    "import numpy as np"
   ]
  },
  {
   "cell_type": "code",
   "execution_count": 2,
   "id": "41b9b5b2",
   "metadata": {},
   "outputs": [
    {
     "data": {
      "text/plain": [
       "array([[0, 1, 2, 3, 4],\n",
       "       [5, 6, 7, 8, 9]])"
      ]
     },
     "execution_count": 2,
     "metadata": {},
     "output_type": "execute_result"
    }
   ],
   "source": [
    "arr1d=np.array([0,1,2,3,4,5,6,7,8,9])\n",
    "arr2d= np.reshape(arr1d, (2,-1))\n",
    "arr2d"
   ]
  },
  {
   "cell_type": "markdown",
   "id": "c7574187",
   "metadata": {},
   "source": [
    "# How to stack two arrays vertically?"
   ]
  },
  {
   "cell_type": "code",
   "execution_count": 3,
   "id": "ffe926bf",
   "metadata": {},
   "outputs": [],
   "source": [
    "a=np.array([[0, 1, 2, 3, 4],\n",
    "          [5, 6, 7, 8, 9]])\n"
   ]
  },
  {
   "cell_type": "code",
   "execution_count": 4,
   "id": "120b963c",
   "metadata": {},
   "outputs": [
    {
     "name": "stdout",
     "output_type": "stream",
     "text": [
      "[[0 1 2 3 4]\n",
      " [5 6 7 8 9]\n",
      " [1 1 1 1 1]\n",
      " [1 1 1 1 1]]\n"
     ]
    }
   ],
   "source": [
    "b= np.array([[1, 1, 1, 1, 1],\n",
    "            [1, 1, 1, 1, 1]])\n",
    "c=np.vstack((a,b))\n",
    "print(c)"
   ]
  },
  {
   "cell_type": "markdown",
   "id": "3439046d",
   "metadata": {},
   "source": [
    "# How to stack two arrays horizontally?"
   ]
  },
  {
   "cell_type": "code",
   "execution_count": 8,
   "id": "35250c11",
   "metadata": {},
   "outputs": [
    {
     "data": {
      "text/plain": [
       "array([[0, 1, 2, 3, 4, 1, 1, 1, 1, 1],\n",
       "       [5, 6, 7, 8, 9, 1, 1, 1, 1, 1]])"
      ]
     },
     "execution_count": 8,
     "metadata": {},
     "output_type": "execute_result"
    }
   ],
   "source": [
    "c=np.hstack((a,b))\n",
    "c"
   ]
  },
  {
   "cell_type": "markdown",
   "id": "179a7903",
   "metadata": {},
   "source": [
    "# How to convert an array of arrays into a flat 1d array?"
   ]
  },
  {
   "cell_type": "code",
   "execution_count": 9,
   "id": "0340d509",
   "metadata": {},
   "outputs": [
    {
     "name": "stdout",
     "output_type": "stream",
     "text": [
      "[0 1 2 3 4 5 6 7 8 9]\n"
     ]
    }
   ],
   "source": [
    "a=np.array([[0,1,2,3,4],[5,6,7,8,9]])\n",
    "result=np.concatenate(a).flatten()\n",
    "print(result)\n",
    "\n"
   ]
  },
  {
   "cell_type": "markdown",
   "id": "13064aeb",
   "metadata": {},
   "source": [
    "# How to Convert higher dimension into one dimension?"
   ]
  },
  {
   "cell_type": "code",
   "execution_count": 7,
   "id": "b3e94984",
   "metadata": {},
   "outputs": [
    {
     "data": {
      "text/plain": [
       "array([ 0,  1,  2,  3,  4,  5,  6,  7,  8,  9, 10, 11, 12, 13, 14])"
      ]
     },
     "execution_count": 7,
     "metadata": {},
     "output_type": "execute_result"
    }
   ],
   "source": [
    "arr2d=np.array([[0,1,2,3,4],[5,6,7,8,9],[10,11,12,13,14]])\n",
    "arr1d=arr2d.flatten()\n",
    "arr1d=arr2d.ravel()\n",
    "arr1d"
   ]
  },
  {
   "cell_type": "code",
   "execution_count": 10,
   "id": "c6821b7d",
   "metadata": {},
   "outputs": [
    {
     "name": "stdout",
     "output_type": "stream",
     "text": [
      "[[ 0  1  2]\n",
      " [ 3  4  5]\n",
      " [ 6  7  8]\n",
      " [ 9 10 11]\n",
      " [12 13 14]]\n"
     ]
    }
   ],
   "source": [
    "arr1d=np.arange(15).reshape(5,3)\n",
    "print(arr1d)"
   ]
  },
  {
   "cell_type": "markdown",
   "id": "d6a33e43",
   "metadata": {},
   "source": [
    "# Create 5x5 an array and find the square of an array?"
   ]
  },
  {
   "cell_type": "code",
   "execution_count": 12,
   "id": "adc041b7",
   "metadata": {},
   "outputs": [
    {
     "name": "stdout",
     "output_type": "stream",
     "text": [
      "[[  0   1   4   9  16]\n",
      " [ 25  36  49  64  81]\n",
      " [100 121 144 169 196]\n",
      " [225 256 289 324 361]\n",
      " [400 441 484 529 576]]\n"
     ]
    }
   ],
   "source": [
    "arr1d=np.arange(25).reshape(5,5)\n",
    "a=np.square(arr1d)\n",
    "print(a)"
   ]
  },
  {
   "cell_type": "markdown",
   "id": "e43d0e1d",
   "metadata": {},
   "source": [
    "# Create 5x6 an array and find the mean?"
   ]
  },
  {
   "cell_type": "code",
   "execution_count": 13,
   "id": "9f614959",
   "metadata": {},
   "outputs": [
    {
     "name": "stdout",
     "output_type": "stream",
     "text": [
      "14.5\n"
     ]
    }
   ],
   "source": [
    "arr1d=np.arange(30).reshape(5,6)\n",
    "a=np.mean(arr1d)\n",
    "print(a)"
   ]
  },
  {
   "cell_type": "markdown",
   "id": "3b16877e",
   "metadata": {},
   "source": [
    "# Find the standard deviation of the previous array in Q8?"
   ]
  },
  {
   "cell_type": "code",
   "execution_count": 14,
   "id": "d1785d9f",
   "metadata": {},
   "outputs": [
    {
     "name": "stdout",
     "output_type": "stream",
     "text": [
      "8.65544144839919\n"
     ]
    }
   ],
   "source": [
    "arr1d=np.arange(30).reshape(5,6)\n",
    "a=np.std(arr1d)\n",
    "print(a)"
   ]
  },
  {
   "cell_type": "markdown",
   "id": "8bd75cd3",
   "metadata": {},
   "source": [
    "# Find the median of the previous array in Q8?"
   ]
  },
  {
   "cell_type": "code",
   "execution_count": 15,
   "id": "75dbc61c",
   "metadata": {},
   "outputs": [
    {
     "name": "stdout",
     "output_type": "stream",
     "text": [
      "14.5\n"
     ]
    }
   ],
   "source": [
    "arr1d=np.arange(30).reshape(5,6)\n",
    "a=np.mean(arr1d)\n",
    "print(a)"
   ]
  },
  {
   "cell_type": "markdown",
   "id": "417b2d91",
   "metadata": {},
   "source": [
    "# Find the transpose of the previous array in Q8?"
   ]
  },
  {
   "cell_type": "code",
   "execution_count": 16,
   "id": "82123637",
   "metadata": {},
   "outputs": [
    {
     "name": "stdout",
     "output_type": "stream",
     "text": [
      "[[ 0  6 12 18 24]\n",
      " [ 1  7 13 19 25]\n",
      " [ 2  8 14 20 26]\n",
      " [ 3  9 15 21 27]\n",
      " [ 4 10 16 22 28]\n",
      " [ 5 11 17 23 29]]\n"
     ]
    }
   ],
   "source": [
    "arr1d=np.arange(30).reshape(5,6)\n",
    "a=np.transpose(arr1d)\n",
    "print(a)"
   ]
  },
  {
   "cell_type": "markdown",
   "id": "c7ac3c8f",
   "metadata": {},
   "source": [
    "# Create a 4x4 an array and find the sum of diagonal elements?"
   ]
  },
  {
   "cell_type": "code",
   "execution_count": 24,
   "id": "8575d5ce",
   "metadata": {},
   "outputs": [
    {
     "name": "stdout",
     "output_type": "stream",
     "text": [
      "32\n"
     ]
    }
   ],
   "source": [
    "arr2d=np.array([[0,1,2,3],[4,5,6,7],[8,10,11,12],[13,14,15,16]])\n",
    "a=np.sum(arr2d.diagonal())\n",
    "print(a)"
   ]
  },
  {
   "cell_type": "markdown",
   "id": "aeb47978",
   "metadata": {},
   "source": [
    "# Find the determinant of the previous array in Q12?"
   ]
  },
  {
   "cell_type": "code",
   "execution_count": 26,
   "id": "dc279c8e",
   "metadata": {},
   "outputs": [
    {
     "name": "stdout",
     "output_type": "stream",
     "text": [
      "1.665334536937729e-16\n"
     ]
    }
   ],
   "source": [
    "arr2d=np.array([[2,1,2,3],[4,5,6,7],[8,10,11,12],[13,14,15,16]])\n",
    "a=np.linalg.det(arr2d)\n",
    "print(a)"
   ]
  },
  {
   "cell_type": "markdown",
   "id": "cf9a581f",
   "metadata": {},
   "source": [
    "# Find the 5th and 95th percentile of an array?"
   ]
  },
  {
   "cell_type": "code",
   "execution_count": 28,
   "id": "b24bfd3a",
   "metadata": {},
   "outputs": [
    {
     "name": "stdout",
     "output_type": "stream",
     "text": [
      "1.75\n",
      "15.25\n"
     ]
    }
   ],
   "source": [
    "arr2d=np.array([[2,1,2,3],[4,5,6,7],[8,10,11,12],[13,14,15,16]])\n",
    "a=np.percentile(arr2d,5)\n",
    "b=np.percentile(arr2d,95)\n",
    "print(a)\n",
    "print(b)"
   ]
  },
  {
   "cell_type": "markdown",
   "id": "e17cb1cd",
   "metadata": {},
   "source": [
    "# How to find if a given array has any null values?"
   ]
  },
  {
   "cell_type": "code",
   "execution_count": null,
   "id": "95854e54",
   "metadata": {},
   "outputs": [],
   "source": []
  }
 ],
 "metadata": {
  "kernelspec": {
   "display_name": "Python 3 (ipykernel)",
   "language": "python",
   "name": "python3"
  },
  "language_info": {
   "codemirror_mode": {
    "name": "ipython",
    "version": 3
   },
   "file_extension": ".py",
   "mimetype": "text/x-python",
   "name": "python",
   "nbconvert_exporter": "python",
   "pygments_lexer": "ipython3",
   "version": "3.9.12"
  }
 },
 "nbformat": 4,
 "nbformat_minor": 5
}
